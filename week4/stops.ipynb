{
 "cells": [
  {
   "cell_type": "code",
   "execution_count": 1,
   "source": [
    "import pandas as pd"
   ],
   "outputs": [],
   "metadata": {}
  },
  {
   "cell_type": "code",
   "execution_count": 2,
   "source": [
    "stops_df = pd.read_csv(open('stops.csv', 'r', encoding='cp1251'), sep=';')"
   ],
   "outputs": [],
   "metadata": {}
  },
  {
   "cell_type": "code",
   "execution_count": 8,
   "source": [
    "streets = stops_df['Street']"
   ],
   "outputs": [],
   "metadata": {}
  },
  {
   "cell_type": "code",
   "execution_count": 9,
   "source": [
    "streets.T"
   ],
   "outputs": [
    {
     "output_type": "execute_result",
     "data": {
      "text/plain": [
       "0                     3-й Дербеневский переулок\n",
       "1                    набережная Тараса Шевченко\n",
       "2                        3-я Черепковская улица\n",
       "3                           улица Сущёвский Вал\n",
       "4                              Дубнинская улица\n",
       "                          ...                  \n",
       "11895                        улица Клары Цеткин\n",
       "11896    улица Зои и Александра Космодемьянских\n",
       "11897                       проезд без названия\n",
       "11898                        Дмитровский проезд\n",
       "11899                      Физкультурный проезд\n",
       "Name: Street, Length: 11900, dtype: object"
      ]
     },
     "metadata": {},
     "execution_count": 9
    }
   ],
   "metadata": {}
  }
 ],
 "metadata": {
  "kernelspec": {
   "name": "python3",
   "display_name": "Python 3.9.6 64-bit ('.env': venv)"
  },
  "language_info": {
   "codemirror_mode": {
    "name": "ipython",
    "version": 3
   },
   "file_extension": ".py",
   "mimetype": "text/x-python",
   "name": "python",
   "nbconvert_exporter": "python",
   "pygments_lexer": "ipython3",
   "version": "3.9.6"
  },
  "interpreter": {
   "hash": "56e3268e687968e9dea99b58d59273b723b98439a03255c0bb291dcca637d563"
  }
 },
 "nbformat": 4,
 "nbformat_minor": 5
}